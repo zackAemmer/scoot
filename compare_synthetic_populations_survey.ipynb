{
 "cells": [
  {
   "cell_type": "code",
   "execution_count": 2,
   "metadata": {},
   "outputs": [],
   "source": [
    "import matplotlib.pyplot as plt\n",
    "import numpy as np\n",
    "import pandas as pd\n",
    "import seaborn as sns\n",
    "import os\n",
    "\n",
    "from bincounts import *"
   ]
  },
  {
   "cell_type": "code",
   "execution_count": 2,
   "metadata": {},
   "outputs": [
    {
     "name": "stdout",
     "output_type": "stream",
     "text": [
      "200_249\n",
      "50_99\n",
      "300_349\n",
      "0_49\n",
      "350_\n",
      "150_199\n",
      "250_299\n",
      "100_149\n"
     ]
    }
   ],
   "source": [
    "# Save sample of populations, while keeping total count\n",
    "path = '/home/zack/stl/scoot/populationsim-master/example_msa_survey/all_outputs'\n",
    "os.listdir(path)\n",
    "\n",
    "percent_to_sample = .1\n",
    "popsim_sample = []\n",
    "tract_control_totals = []\n",
    "\n",
    "for foldername in os.listdir(path):\n",
    "    print(foldername)\n",
    "    synthetic_p = pd.read_csv(f\"{path}/{foldername}/synthetic_persons.csv\")\n",
    "    sample = synthetic_p.sample(int(percent_to_sample*len(synthetic_p)))\n",
    "    popsim_sample.append(sample)\n",
    "    \n",
    "    controls = pd.read_csv(f\"{path}/{foldername}/final_TRACT_control_data.csv\")\n",
    "    tract_control_totals.append(controls)\n",
    "\n",
    "popsim_sample = pd.concat(popsim_sample)\n",
    "# popsim_sample.drop(columns='Unnamed: 0', inplace=True)\n",
    "tract_control_totals = pd.concat(tract_control_totals)\n",
    "popsim_sample.to_csv(f\"{path}/../combined_stats/popsim_sample.csv\")\n",
    "tract_control_totals.to_csv(f\"{path}/../combined_stats/tract_control_totals.csv\")"
   ]
  },
  {
   "cell_type": "markdown",
   "metadata": {
    "tags": []
   },
   "source": [
    "### Control Variable Distributions"
   ]
  },
  {
   "cell_type": "code",
   "execution_count": 4,
   "metadata": {},
   "outputs": [],
   "source": [
    "# Compare the counts of variables in the synthetic population with those in the ACS marginal tables\n",
    "# Compare full region, as well as a random sample of 10 or so tracts visually\n",
    "# Each MSA will need to be compared"
   ]
  },
  {
   "cell_type": "code",
   "execution_count": 5,
   "metadata": {},
   "outputs": [
    {
     "name": "stderr",
     "output_type": "stream",
     "text": [
      "/home/zack/miniconda3/lib/python3.9/site-packages/IPython/core/interactiveshell.py:3444: DtypeWarning: Columns (19) have mixed types.Specify dtype option on import or set low_memory=False.\n",
      "  exec(code_obj, self.user_global_ns, self.user_ns)\n"
     ]
    }
   ],
   "source": [
    "path = '/home/zack/stl/scoot/populationsim-master/example_msa_survey/all_outputs'\n",
    "popsim_sample = pd.read_csv(f\"{path}/../combined_stats/popsim_sample.csv\")\n",
    "tract_control_totals = pd.read_csv(f\"{path}/../combined_stats/tract_control_totals.csv\")\n",
    "geos = pd.read_csv(f\"{path}/../../../data/TIGER/msa_puma_tract_join.csv\")\n",
    "labels = pd.read_csv(f\"{path}/../configs/controls.csv\")"
   ]
  },
  {
   "cell_type": "code",
   "execution_count": 10,
   "metadata": {},
   "outputs": [],
   "source": [
    "random_tracts = tract_control_totals.sample(1)\n",
    "\n",
    "tract_geoids = []\n",
    "var_names = []\n",
    "synthetic_counts = []\n",
    "marginal_counts = []\n",
    "\n",
    "for i, tract in random_tracts.iterrows():\n",
    "    geoid = int(tract['GEO_ID'][9:])\n",
    "    persons = popsim_sample.loc[popsim_sample['TRACT']==geoid,]\n",
    "    for i, control in labels.iloc[1:,].iterrows():\n",
    "        synth_count = sum(eval(control['expression']))\n",
    "        marg_count = tract[control['control_field']]\n",
    "        \n",
    "        tract_geoids.append(geoid)\n",
    "        var_names.append(control['control_field'])\n",
    "        synthetic_counts.append(synth_count*10)\n",
    "        marginal_counts.append(marg_count)\n",
    "\n",
    "random_tract_comparisons = pd.DataFrame(zip(tract_geoids, var_names, marginal_counts, synthetic_counts), columns=['tract_geoid','var_name','marginal_count','synthetic_count'])"
   ]
  },
  {
   "cell_type": "code",
   "execution_count": 11,
   "metadata": {},
   "outputs": [
    {
     "data": {
      "text/html": [
       "<div>\n",
       "<style scoped>\n",
       "    .dataframe tbody tr th:only-of-type {\n",
       "        vertical-align: middle;\n",
       "    }\n",
       "\n",
       "    .dataframe tbody tr th {\n",
       "        vertical-align: top;\n",
       "    }\n",
       "\n",
       "    .dataframe thead th {\n",
       "        text-align: right;\n",
       "    }\n",
       "</style>\n",
       "<table border=\"1\" class=\"dataframe\">\n",
       "  <thead>\n",
       "    <tr style=\"text-align: right;\">\n",
       "      <th></th>\n",
       "      <th>tract_geoid</th>\n",
       "      <th>var_name</th>\n",
       "      <th>marginal_count</th>\n",
       "      <th>synthetic_count</th>\n",
       "    </tr>\n",
       "  </thead>\n",
       "  <tbody>\n",
       "    <tr>\n",
       "      <th>0</th>\n",
       "      <td>24510230200</td>\n",
       "      <td>age16-19</td>\n",
       "      <td>0</td>\n",
       "      <td>0</td>\n",
       "    </tr>\n",
       "    <tr>\n",
       "      <th>1</th>\n",
       "      <td>24510230200</td>\n",
       "      <td>age20-24</td>\n",
       "      <td>323</td>\n",
       "      <td>300</td>\n",
       "    </tr>\n",
       "    <tr>\n",
       "      <th>2</th>\n",
       "      <td>24510230200</td>\n",
       "      <td>age25-44</td>\n",
       "      <td>1002</td>\n",
       "      <td>1130</td>\n",
       "    </tr>\n",
       "    <tr>\n",
       "      <th>3</th>\n",
       "      <td>24510230200</td>\n",
       "      <td>age45-54</td>\n",
       "      <td>77</td>\n",
       "      <td>50</td>\n",
       "    </tr>\n",
       "    <tr>\n",
       "      <th>4</th>\n",
       "      <td>24510230200</td>\n",
       "      <td>age55-59</td>\n",
       "      <td>26</td>\n",
       "      <td>30</td>\n",
       "    </tr>\n",
       "    <tr>\n",
       "      <th>5</th>\n",
       "      <td>24510230200</td>\n",
       "      <td>age60+</td>\n",
       "      <td>65</td>\n",
       "      <td>70</td>\n",
       "    </tr>\n",
       "    <tr>\n",
       "      <th>6</th>\n",
       "      <td>24510230200</td>\n",
       "      <td>genderM</td>\n",
       "      <td>713</td>\n",
       "      <td>790</td>\n",
       "    </tr>\n",
       "    <tr>\n",
       "      <th>7</th>\n",
       "      <td>24510230200</td>\n",
       "      <td>genderF</td>\n",
       "      <td>782</td>\n",
       "      <td>790</td>\n",
       "    </tr>\n",
       "    <tr>\n",
       "      <th>8</th>\n",
       "      <td>24510230200</td>\n",
       "      <td>edu1-15</td>\n",
       "      <td>45100</td>\n",
       "      <td>1200</td>\n",
       "    </tr>\n",
       "    <tr>\n",
       "      <th>9</th>\n",
       "      <td>24510230200</td>\n",
       "      <td>edu16-17</td>\n",
       "      <td>124</td>\n",
       "      <td>40</td>\n",
       "    </tr>\n",
       "    <tr>\n",
       "      <th>10</th>\n",
       "      <td>24510230200</td>\n",
       "      <td>edu18-19</td>\n",
       "      <td>112</td>\n",
       "      <td>30</td>\n",
       "    </tr>\n",
       "    <tr>\n",
       "      <th>11</th>\n",
       "      <td>24510230200</td>\n",
       "      <td>edu20</td>\n",
       "      <td>18</td>\n",
       "      <td>0</td>\n",
       "    </tr>\n",
       "    <tr>\n",
       "      <th>12</th>\n",
       "      <td>24510230200</td>\n",
       "      <td>edu21</td>\n",
       "      <td>593</td>\n",
       "      <td>190</td>\n",
       "    </tr>\n",
       "    <tr>\n",
       "      <th>13</th>\n",
       "      <td>24510230200</td>\n",
       "      <td>edu22-24</td>\n",
       "      <td>493</td>\n",
       "      <td>120</td>\n",
       "    </tr>\n",
       "    <tr>\n",
       "      <th>14</th>\n",
       "      <td>24510230200</td>\n",
       "      <td>idincome-9999</td>\n",
       "      <td>88</td>\n",
       "      <td>710</td>\n",
       "    </tr>\n",
       "    <tr>\n",
       "      <th>15</th>\n",
       "      <td>24510230200</td>\n",
       "      <td>idincome10000-14999</td>\n",
       "      <td>13</td>\n",
       "      <td>0</td>\n",
       "    </tr>\n",
       "    <tr>\n",
       "      <th>16</th>\n",
       "      <td>24510230200</td>\n",
       "      <td>idincome15000-24999</td>\n",
       "      <td>56</td>\n",
       "      <td>490</td>\n",
       "    </tr>\n",
       "    <tr>\n",
       "      <th>17</th>\n",
       "      <td>24510230200</td>\n",
       "      <td>idincome25000-34999</td>\n",
       "      <td>140</td>\n",
       "      <td>20</td>\n",
       "    </tr>\n",
       "    <tr>\n",
       "      <th>18</th>\n",
       "      <td>24510230200</td>\n",
       "      <td>idincome35000-49999</td>\n",
       "      <td>227</td>\n",
       "      <td>90</td>\n",
       "    </tr>\n",
       "    <tr>\n",
       "      <th>19</th>\n",
       "      <td>24510230200</td>\n",
       "      <td>idincome50000-74999</td>\n",
       "      <td>350</td>\n",
       "      <td>110</td>\n",
       "    </tr>\n",
       "    <tr>\n",
       "      <th>20</th>\n",
       "      <td>24510230200</td>\n",
       "      <td>idincome75000+</td>\n",
       "      <td>619</td>\n",
       "      <td>160</td>\n",
       "    </tr>\n",
       "  </tbody>\n",
       "</table>\n",
       "</div>"
      ],
      "text/plain": [
       "    tract_geoid             var_name  marginal_count  synthetic_count\n",
       "0   24510230200             age16-19               0                0\n",
       "1   24510230200             age20-24             323              300\n",
       "2   24510230200             age25-44            1002             1130\n",
       "3   24510230200             age45-54              77               50\n",
       "4   24510230200             age55-59              26               30\n",
       "5   24510230200               age60+              65               70\n",
       "6   24510230200              genderM             713              790\n",
       "7   24510230200              genderF             782              790\n",
       "8   24510230200              edu1-15           45100             1200\n",
       "9   24510230200             edu16-17             124               40\n",
       "10  24510230200             edu18-19             112               30\n",
       "11  24510230200                edu20              18                0\n",
       "12  24510230200                edu21             593              190\n",
       "13  24510230200             edu22-24             493              120\n",
       "14  24510230200        idincome-9999              88              710\n",
       "15  24510230200  idincome10000-14999              13                0\n",
       "16  24510230200  idincome15000-24999              56              490\n",
       "17  24510230200  idincome25000-34999             140               20\n",
       "18  24510230200  idincome35000-49999             227               90\n",
       "19  24510230200  idincome50000-74999             350              110\n",
       "20  24510230200       idincome75000+             619              160"
      ]
     },
     "execution_count": 11,
     "metadata": {},
     "output_type": "execute_result"
    }
   ],
   "source": [
    "random_tract_comparisons"
   ]
  },
  {
   "cell_type": "code",
   "execution_count": 22,
   "metadata": {},
   "outputs": [
    {
     "name": "stderr",
     "output_type": "stream",
     "text": [
      "/tmp/ipykernel_888/34403456.py:23: RuntimeWarning: invalid value encountered in true_divide\n",
      "  pums_counts = list(get_bin_counts(pums_sample_p[var],bin_list[i])/sum(get_bin_counts(pums_sample_p[var],bin_list[i])))\n",
      "/tmp/ipykernel_888/34403456.py:24: RuntimeWarning: invalid value encountered in true_divide\n",
      "  popsim_counts = list(get_bin_counts(popsim_sample_p[var],bin_list[i])/sum(get_bin_counts(popsim_sample_p[var],bin_list[i])))\n"
     ]
    },
    {
     "data": {
      "image/png": "[encoded data removed]",
      "text/plain": [
       "<Figure size 720x720 with 8 Axes>"
      ]
     },
     "metadata": {
      "needs_background": "light"
     },
     "output_type": "display_data"
    }
   ],
   "source": [
    "# Generate Barplot Distributions\n",
    "fig, axes = plt.subplots(nrows=4, ncols=2, figsize=(10,10))\n",
    "fig.tight_layout(h_pad=3, w_pad=6)\n",
    "\n",
    "var_list = ['PINCP','AGEP','SEX','SCHL']\n",
    "\n",
    "for i,var in enumerate(var_list):\n",
    "    # Handle household-level variables\n",
    "    # if var in ['NP','VEH']:\n",
    "    #     pums_counts = list(get_bin_counts(pums_sample_h[var],bin_list[i])/sum(get_bin_counts(pums_sample_h[var],bin_list[i])))\n",
    "    #     popsim_counts = list(get_bin_counts(popsim_sample_h[var],bin_list[i])/sum(get_bin_counts(popsim_sample_h[var],bin_list[i])))\n",
    "\n",
    "    # Handle tables where ACS tabulates NAs different than PUMS\n",
    "    if var =='SCHL':\n",
    "        over_24_pums_sample = pums_sample_p[pums_sample_p['AGEP']>=25]\n",
    "        pums_counts = list(get_bin_counts(over_24_pums_sample[var],bin_list[i])/sum(get_bin_counts(over_24_pums_sample[var],bin_list[i])))\n",
    "        over_24_popsim_sample = popsim_sample_p[popsim_sample_p['AGEP']>=25] # Change to this after fixing SCHL >24 input controls\n",
    "        over_24_popsim_sample = popsim_sample_p\n",
    "        popsim_counts = list(get_bin_counts(over_24_popsim_sample[var],bin_list[i])/sum(get_bin_counts(over_24_popsim_sample[var],bin_list[i])))\n",
    "        \n",
    "    # Otherwise handle plain person-level variables\n",
    "    else:\n",
    "        pums_counts = list(get_bin_counts(pums_sample_p[var],bin_list[i])/sum(get_bin_counts(pums_sample_p[var],bin_list[i])))\n",
    "        popsim_counts = list(get_bin_counts(popsim_sample_p[var],bin_list[i])/sum(get_bin_counts(popsim_sample_p[var],bin_list[i])))\n",
    "\n",
    "    # Bring together bin counts to make barplot\n",
    "    sampled_counts = pd.DataFrame()\n",
    "    sampled_counts['density'] = popsim_counts + pums_counts\n",
    "    sampled_counts['Source'] = ['Popsim' for i in range(1,len(bin_list[i]))] + ['Pums' for i in range(1,len(bin_list[i]))]\n",
    "    sampled_counts['Group'] = bin_names_list[i]*2\n",
    "    sns.barplot(x=\"density\", y=\"Group\", hue=\"Source\", data=sampled_counts, ax=axes.flatten()[i], orient='h')\n",
    "    axes.flatten()[i].set_title(var_names_list[i])\n",
    "    axes.flatten()[i].set_xlabel(None)\n",
    "    axes.flatten()[i].set_ylabel(None)"
   ]
  },
  {
   "cell_type": "code",
   "execution_count": null,
   "metadata": {},
   "outputs": [],
   "source": [
    "fig"
   ]
  },
  {
   "cell_type": "code",
   "execution_count": null,
   "metadata": {},
   "outputs": [],
   "source": [
    "fig.savefig('control_distributions.png', dpi=300)"
   ]
  }
 ],
 "metadata": {
  "kernelspec": {
   "display_name": "Python 3 (ipykernel)",
   "language": "python",
   "name": "python3"
  },
  "language_info": {
   "codemirror_mode": {
    "name": "ipython",
    "version": 3
   },
   "file_extension": ".py",
   "mimetype": "text/x-python",
   "name": "python",
   "nbconvert_exporter": "python",
   "pygments_lexer": "ipython3",
   "version": "3.9.5"
  }
 },
 "nbformat": 4,
 "nbformat_minor": 4
}
