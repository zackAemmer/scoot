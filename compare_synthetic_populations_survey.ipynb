{
 "cells": [
  {
   "cell_type": "code",
   "execution_count": 1,
   "metadata": {},
   "outputs": [],
   "source": [
    "import matplotlib.pyplot as plt\n",
    "import numpy as np\n",
    "import pandas as pd\n",
    "import seaborn as sns\n",
    "import os\n",
    "\n",
    "from bincounts import *\n",
    "\n",
    "path = '/home/zack/stl/scoot/populationsim-master/example_msa_survey/all_outputs'\n",
    "path = './populationsim-master/example_msa_survey/all_outputs'"
   ]
  },
  {
   "cell_type": "code",
   "execution_count": 2,
   "metadata": {},
   "outputs": [],
   "source": [
    "# # Fix Popsim runs with infeasible tracts (no synth persons file)\n",
    "# synth_hh = pd.read_csv(f\"{path}/50_99/synthetic_households.csv\")\n",
    "# p_data = pd.read_csv(f\"{path}/../scoot_socio.csv\", dtype=str)\n",
    "# p_data.reset_index(inplace=True)\n",
    "\n",
    "# # Clean up the file generated from QGIS spatial join\n",
    "# geo = pd.read_csv('./data/TIGER/msa_puma_tract_join.csv', usecols=['jmsa_GEOID','jpuma_GEOI','GEOID']).dropna()\n",
    "# geo['REGION'] = '1'\n",
    "# geo = geo[['REGION','jmsa_GEOID','GEOID']].astype(int)\n",
    "# geo.columns = ['REGION','MSA','TRACT']\n",
    "\n",
    "# # Get rid of Micropolitan Statistical Areas\n",
    "# msa_ids = pd.read_csv('./data/TIGER/msa_list.csv')\n",
    "# geo = geo[geo['MSA'].isin(msa_ids['GEOID'])]\n",
    "# full_msa_list = pd.unique(geo['MSA'])\n",
    "\n",
    "# # Limit to certain MSAs if desired, there are 925 total MSA + MicroSA, 384 MSA\n",
    "# msas_to_use = full_msa_list[50:99]\n",
    "# geo = geo[geo['MSA'].isin(msas_to_use)]\n",
    "\n",
    "# # Get the list of msas, and tracts that are being synthesized\n",
    "# msa_list = list(pd.unique(geo['MSA']))\n",
    "# msa_list = [int(i) for i in msa_list]\n",
    "# tract_list = list(pd.unique(geo['TRACT']))\n",
    "# tract_list = [int(i) for i in tract_list]\n",
    "\n",
    "# # Fake household for each person\n",
    "# h_data = p_data[['index','user']].copy()\n",
    "# h_data['REGION'] = '1'\n",
    "# h_data['WGTP'] = 1.0\n",
    "\n",
    "# # Allocate all sample data to every MSA (seed geography)\n",
    "# # Every person is alone in a single household (id=index)\n",
    "# # Every person/household is repeated for every MSA\n",
    "# p_data_list = []\n",
    "# h_data_list = []\n",
    "# for msa in msa_list:\n",
    "#     p_data_new = p_data.copy()\n",
    "#     p_data_new['MSA'] = msa\n",
    "#     p_data_list.append(p_data_new)\n",
    "#     h_data_new = h_data.copy()\n",
    "#     h_data_new['MSA'] = msa\n",
    "#     h_data_list.append(h_data_new)\n",
    "# p_data = pd.concat(p_data_list)\n",
    "# p_data.reset_index(inplace=True)\n",
    "# p_data.drop(['level_0','index'], axis=1, inplace=True)\n",
    "# p_data.reset_index(inplace=True)\n",
    "# h_data = pd.concat(h_data_list)\n",
    "# h_data.reset_index(inplace=True)\n",
    "# h_data.drop(['level_0','index'], axis=1, inplace=True)\n",
    "# h_data.reset_index(inplace=True)"
   ]
  },
  {
   "cell_type": "code",
   "execution_count": 3,
   "metadata": {},
   "outputs": [],
   "source": [
    "# ordered_cols = ['MSA', 'TRACT', 'index', 'household_id', 'user', 'age', 'gender',\n",
    "#        'race', 'hispanic', 'usborn', 'edu', 'student', 'work', 'zipcode',\n",
    "#        'hhsize', 'child', 'hhincome', 'idincome', 'disable', 'veh',\n",
    "#        'bike']\n",
    "# merged_hh = synth_hh.merge(p_data, on='index', how='left').drop(columns=['MSA_y'])\n",
    "# merged_hh['MSA'] = merged_hh['MSA_x']\n",
    "# merged_hh = merged_hh[ordered_cols]\n",
    "# merged_hh.to_csv(f\"{path}/50_99/synthetic_persons.csv\")"
   ]
  },
  {
   "cell_type": "code",
   "execution_count": 4,
   "metadata": {},
   "outputs": [
    {
     "name": "stdout",
     "output_type": "stream",
     "text": [
      "50_99\n",
      "200_249\n",
      "100_149\n",
      "350_\n",
      "300_349\n",
      "0_49\n",
      "150_199\n",
      "250_299\n"
     ]
    }
   ],
   "source": [
    "# Save sample of populations, while keeping total count\n",
    "os.listdir(path)\n",
    "\n",
    "percent_to_sample = .1\n",
    "popsim_sample = []\n",
    "tract_control_totals = []\n",
    "\n",
    "for foldername in os.listdir(path):\n",
    "    print(foldername)\n",
    "    synthetic_p = pd.read_csv(f\"{path}/{foldername}/synthetic_persons.csv\")\n",
    "    sample = synthetic_p.sample(int(percent_to_sample*len(synthetic_p)))\n",
    "    popsim_sample.append(sample)\n",
    "    \n",
    "    controls = pd.read_csv(f\"{path}/{foldername}/final_TRACT_control_data.csv\")\n",
    "    tract_control_totals.append(controls)\n",
    "\n",
    "popsim_sample = pd.concat(popsim_sample)\n",
    "tract_control_totals = pd.concat(tract_control_totals)\n",
    "popsim_sample.to_csv(f\"{path}/../combined_stats/popsim_sample.csv\")\n",
    "tract_control_totals.to_csv(f\"{path}/../combined_stats/tract_control_totals.csv\")"
   ]
  },
  {
   "cell_type": "markdown",
   "metadata": {
    "tags": []
   },
   "source": [
    "### Control Variable Distributions"
   ]
  },
  {
   "cell_type": "code",
   "execution_count": 5,
   "metadata": {},
   "outputs": [],
   "source": [
    "# Compare the counts of variables in the synthetic population with those in the ACS marginal tables\n",
    "# Compare full region, as well as a random sample of 10 or so tracts visually\n",
    "# Each MSA will need to be compared"
   ]
  },
  {
   "cell_type": "code",
   "execution_count": 6,
   "metadata": {},
   "outputs": [],
   "source": [
    "popsim_sample = pd.read_csv(f\"{path}/../combined_stats/popsim_sample.csv\")\n",
    "tract_control_totals = pd.read_csv(f\"{path}/../combined_stats/tract_control_totals.csv\")\n",
    "# geos = pd.read_csv(f\"{path}/../../../data/TIGER/msa_puma_tract_join.csv\")\n",
    "# labels = pd.read_csv(f\"{path}/../configs/controls.csv\")"
   ]
  },
  {
   "cell_type": "code",
   "execution_count": 7,
   "metadata": {},
   "outputs": [
    {
     "ename": "NameError",
     "evalue": "name 'labels' is not defined",
     "output_type": "error",
     "traceback": [
      "\u001b[0;31m---------------------------------------------------------------------------\u001b[0m",
      "\u001b[0;31mNameError\u001b[0m                                 Traceback (most recent call last)",
      "Input \u001b[0;32mIn [7]\u001b[0m, in \u001b[0;36m<module>\u001b[0;34m\u001b[0m\n\u001b[1;32m      9\u001b[0m geoid \u001b[38;5;241m=\u001b[39m \u001b[38;5;28mint\u001b[39m(tract[\u001b[38;5;124m'\u001b[39m\u001b[38;5;124mGEO_ID\u001b[39m\u001b[38;5;124m'\u001b[39m][\u001b[38;5;241m9\u001b[39m:])\n\u001b[1;32m     10\u001b[0m persons \u001b[38;5;241m=\u001b[39m popsim_sample\u001b[38;5;241m.\u001b[39mloc[popsim_sample[\u001b[38;5;124m'\u001b[39m\u001b[38;5;124mTRACT\u001b[39m\u001b[38;5;124m'\u001b[39m]\u001b[38;5;241m==\u001b[39mgeoid,]\n\u001b[0;32m---> 11\u001b[0m \u001b[38;5;28;01mfor\u001b[39;00m i, control \u001b[38;5;129;01min\u001b[39;00m \u001b[43mlabels\u001b[49m\u001b[38;5;241m.\u001b[39miloc[\u001b[38;5;241m1\u001b[39m:,]\u001b[38;5;241m.\u001b[39miterrows():\n\u001b[1;32m     12\u001b[0m     synth_count \u001b[38;5;241m=\u001b[39m \u001b[38;5;28msum\u001b[39m(\u001b[38;5;28meval\u001b[39m(control[\u001b[38;5;124m'\u001b[39m\u001b[38;5;124mexpression\u001b[39m\u001b[38;5;124m'\u001b[39m]))\n\u001b[1;32m     13\u001b[0m     marg_count \u001b[38;5;241m=\u001b[39m tract[control[\u001b[38;5;124m'\u001b[39m\u001b[38;5;124mcontrol_field\u001b[39m\u001b[38;5;124m'\u001b[39m]]\n",
      "\u001b[0;31mNameError\u001b[0m: name 'labels' is not defined"
     ]
    }
   ],
   "source": [
    "random_tracts = tract_control_totals.sample(5)\n",
    "\n",
    "tract_geoids = []\n",
    "var_names = []\n",
    "synthetic_counts = []\n",
    "marginal_counts = []\n",
    "\n",
    "for i, tract in random_tracts.iterrows():\n",
    "    geoid = int(tract['GEO_ID'][9:])\n",
    "    persons = popsim_sample.loc[popsim_sample['TRACT']==geoid,]\n",
    "    for i, control in labels.iloc[1:,].iterrows():\n",
    "        synth_count = sum(eval(control['expression']))\n",
    "        marg_count = tract[control['control_field']]\n",
    "        \n",
    "        tract_geoids.append(geoid)\n",
    "        var_names.append(control['control_field'])\n",
    "        synthetic_counts.append(synth_count*10)\n",
    "        marginal_counts.append(marg_count)\n",
    "\n",
    "random_tract_comparisons = pd.DataFrame(zip(tract_geoids, var_names, marginal_counts, synthetic_counts), columns=['tract_geoid','var_name','marginal_count','synthetic_count'])"
   ]
  },
  {
   "cell_type": "code",
   "execution_count": null,
   "metadata": {},
   "outputs": [],
   "source": [
    "random_tract_comparisons"
   ]
  },
  {
   "cell_type": "code",
   "execution_count": null,
   "metadata": {},
   "outputs": [],
   "source": [
    "popsim_sample"
   ]
  },
  {
   "cell_type": "code",
   "execution_count": null,
   "metadata": {},
   "outputs": [],
   "source": []
  },
  {
   "cell_type": "code",
   "execution_count": null,
   "metadata": {},
   "outputs": [],
   "source": []
  },
  {
   "cell_type": "code",
   "execution_count": null,
   "metadata": {},
   "outputs": [],
   "source": []
  },
  {
   "cell_type": "code",
   "execution_count": null,
   "metadata": {},
   "outputs": [],
   "source": [
    "# # Generate Barplot Distributions\n",
    "# fig, axes = plt.subplots(nrows=4, ncols=2, figsize=(10,10))\n",
    "# fig.tight_layout(h_pad=3, w_pad=6)\n",
    "\n",
    "# var_list = ['Income','Age','Sex','Education']\n",
    "\n",
    "# for i,var in enumerate(var_list):\n",
    "#     # Handle household-level variables\n",
    "#     # if var in ['NP','VEH']:\n",
    "#     #     pums_counts = list(get_bin_counts(pums_sample_h[var],bin_list[i])/sum(get_bin_counts(pums_sample_h[var],bin_list[i])))\n",
    "#     #     popsim_counts = list(get_bin_counts(popsim_sample_h[var],bin_list[i])/sum(get_bin_counts(popsim_sample_h[var],bin_list[i])))\n",
    "\n",
    "#     # Handle tables where ACS tabulates NAs different than PUMS\n",
    "#     if var =='SCHL':\n",
    "#         over_24_pums_sample = pums_sample_p[pums_sample_p['AGEP']>=25]\n",
    "#         pums_counts = list(get_bin_counts(over_24_pums_sample[var],bin_list[i])/sum(get_bin_counts(over_24_pums_sample[var],bin_list[i])))\n",
    "#         over_24_popsim_sample = popsim_sample_p[popsim_sample_p['AGEP']>=25] # Change to this after fixing SCHL >24 input controls\n",
    "#         over_24_popsim_sample = popsim_sample_p\n",
    "#         popsim_counts = list(get_bin_counts(over_24_popsim_sample[var],bin_list[i])/sum(get_bin_counts(over_24_popsim_sample[var],bin_list[i])))\n",
    "        \n",
    "#     # Otherwise handle plain person-level variables\n",
    "#     else:\n",
    "#         pums_counts = list(get_bin_counts(pums_sample_p[var],bin_list[i])/sum(get_bin_counts(pums_sample_p[var],bin_list[i])))\n",
    "#         popsim_counts = list(get_bin_counts(popsim_sample_p[var],bin_list[i])/sum(get_bin_counts(popsim_sample_p[var],bin_list[i])))\n",
    "\n",
    "#     # Bring together bin counts to make barplot\n",
    "#     sampled_counts = pd.DataFrame()\n",
    "#     sampled_counts['density'] = popsim_counts + pums_counts\n",
    "#     sampled_counts['Source'] = ['Popsim' for i in range(1,len(bin_list[i]))] + ['Pums' for i in range(1,len(bin_list[i]))]\n",
    "#     sampled_counts['Group'] = bin_names_list[i]*2\n",
    "#     sns.barplot(x=\"density\", y=\"Group\", hue=\"Source\", data=sampled_counts, ax=axes.flatten()[i], orient='h')\n",
    "#     axes.flatten()[i].set_title(var_names_list[i])\n",
    "#     axes.flatten()[i].set_xlabel(None)\n",
    "#     axes.flatten()[i].set_ylabel(None)"
   ]
  },
  {
   "cell_type": "code",
   "execution_count": null,
   "metadata": {},
   "outputs": [],
   "source": [
    "# fig"
   ]
  },
  {
   "cell_type": "code",
   "execution_count": null,
   "metadata": {},
   "outputs": [],
   "source": [
    "# fig.savefig('control_distributions.png', dpi=300)"
   ]
  }
 ],
 "metadata": {
  "kernelspec": {
   "display_name": "Python 3 (ipykernel)",
   "language": "python",
   "name": "python3"
  },
  "language_info": {
   "codemirror_mode": {
    "name": "ipython",
    "version": 3
   },
   "file_extension": ".py",
   "mimetype": "text/x-python",
   "name": "python",
   "nbconvert_exporter": "python",
   "pygments_lexer": "ipython3",
   "version": "3.9.9"
  }
 },
 "nbformat": 4,
 "nbformat_minor": 4
}
